{
 "cells": [
  {
   "cell_type": "code",
   "execution_count": null,
   "metadata": {
    "_cell_guid": "b1076dfc-b9ad-4769-8c92-a6c4dae69d19",
    "_uuid": "8f2839f25d086af736a60e9eeb907d3b93b6e0e5",
    "trusted": true
   },
   "outputs": [],
   "source": [
    "import pandas as pd\n",
    "import numpy as np\n",
    "import seaborn as sns\n",
    "import matplotlib.pyplot as plt\n",
    "import seaborn as sns\n",
    "from scipy.stats import chi2_contingency, pointbiserialr\n",
    "from scipy.stats import chi2_contingency, f_oneway"
   ]
  },
  {
   "cell_type": "code",
   "execution_count": null,
   "metadata": {
    "trusted": true
   },
   "outputs": [],
   "source": [
    "# Load your dataset\n",
    "df = pd.read_csv('/kaggle/input/onlytimestamp/fulltimestamponly.csv',parse_dates=True,on_bad_lines='skip')"
   ]
  },
  {
   "cell_type": "code",
   "execution_count": null,
   "metadata": {
    "trusted": true
   },
   "outputs": [],
   "source": [
    "df.head()"
   ]
  },
  {
   "cell_type": "code",
   "execution_count": null,
   "metadata": {
    "trusted": true
   },
   "outputs": [],
   "source": [
    "df.shape"
   ]
  },
  {
   "cell_type": "code",
   "execution_count": null,
   "metadata": {
    "trusted": true
   },
   "outputs": [],
   "source": [
    "num_cols = ['year', 'month', 'date']\n",
    "cat_cols = ['Title', 'Author','publisher']\n",
    "less_cat_cols = ['day','Group', 'Format','genre',]\n",
    "target_col = 'rank'"
   ]
  },
  {
   "cell_type": "code",
   "execution_count": null,
   "metadata": {
    "trusted": true
   },
   "outputs": [],
   "source": [
    "# Convert timestamp to datetime\n",
    "df['timestamp'] = pd.to_datetime(df['timestamp'])\n",
    "\n",
    "# Sorting by timestamp for better trend visualization\n",
    "df = df.sort_values(by='timestamp')\n",
    "\n",
    "# Plot Rank Trend Over Time\n",
    "plt.figure(figsize=(12, 5))\n",
    "sns.lineplot(x='timestamp', y='rank', data=df, marker='o')\n",
    "plt.gca().invert_yaxis()  # Lower rank is better, so invert the axis\n",
    "plt.xlabel('Timestamp')\n",
    "plt.ylabel('Rank')\n",
    "plt.title('Book Rank Trend Over Time')\n",
    "plt.xticks(rotation=45)\n",
    "plt.show()"
   ]
  },
  {
   "cell_type": "code",
   "execution_count": null,
   "metadata": {
    "trusted": true
   },
   "outputs": [],
   "source": [
    "import pandas as pd\n",
    "from scipy.stats import chi2_contingency\n",
    "import seaborn as sns\n",
    "import matplotlib.pyplot as plt\n",
    "\n",
    "def check_correlation_categorical(df, target_column, cat_columns):\n",
    "    results = {}\n",
    "\n",
    "    for cat_column in cat_columns:\n",
    "        contingency_table = pd.crosstab(df[cat_column], df[target_column])\n",
    "        chi2, p_value, dof, expected = chi2_contingency(contingency_table)\n",
    "\n",
    "        results[cat_column] = {\n",
    "            \"status\": \"Columns correlated\" if p_value <= 0.05 else \"Columns not correlated\",\n",
    "            \"chi2_statistic\": round(chi2, 3),\n",
    "            \"p_value\": round(p_value, 5),\n",
    "            \"dof\": dof\n",
    "        }\n",
    "\n",
    "    return results\n",
    "\n",
    "# Call the function for `cat_cols`\n",
    "chi_square_results = check_correlation_categorical(df, target_col, cat_cols)\n",
    "print(chi_square_results)\n",
    "\n",
    "# Print Chi-Square results in a structured format for cat_cols\n",
    "print(\"\\nChi-Square Test Results for cat_cols (Categorical vs Numerical):\\n\")\n",
    "for col, values in chi_square_results.items():\n",
    "    print(f\"Column: {col}\")\n",
    "    print(f\"  Status         : {values['status']}\")\n",
    "    print(f\"  Chi2-Statistic : {values['chi2_statistic']}\")\n",
    "    print(f\"  P-Value        : {values['p_value']}\")\n",
    "    print(f\"  Degrees of Freedom : {values['dof']}\")\n",
    "    print(\"-\" * 40)"
   ]
  },
  {
   "cell_type": "code",
   "execution_count": null,
   "metadata": {
    "trusted": true
   },
   "outputs": [],
   "source": [
    "from sklearn.preprocessing import LabelEncoder\n",
    "from scipy.stats import pearsonr\n",
    "\n",
    "# Encoding categorical variables\n",
    "encoder = LabelEncoder()\n",
    "df1_encoded = df1.copy()\n",
    "df1_encoded[\"Author\"] = encoder.fit_transform(df1[\"Author\"])\n",
    "df1_encoded[\"Title\"] = encoder.fit_transform(df1[\"Title\"])\n",
    "df1_encoded[\"publisher\"] = encoder.fit_transform(df1[\"publisher\"])\n",
    "\n",
    "# Calculating correlation\n",
    "correlation_matrix = df1_encoded.corr()\n",
    "\n",
    "# Checking correlation with p-values and printing status\n",
    "print(\"Correlation Analysis with Rank:\\n\")\n",
    "for col in [\"Author\", \"Title\", \"publisher\"]:\n",
    "    corr, pval = pearsonr(df1_encoded[\"rank\"], df1_encoded[col])\n",
    "    \n",
    "    # Determine significance\n",
    "    if pval < 0.05:\n",
    "        status = \"Correlation\"\n",
    "    else:\n",
    "        status = \"No Correlation\"\n",
    "    \n",
    "    print(f\"{col}: Correlation = {corr:.4f}, p-value = {pval:.4f} → {status}\")\n",
    "\n",
    "\n",
    "\n",
    "# Interpretation Guide:\n",
    "# - If p-value < 0.05 → Statistically significant correlation\n",
    "# - If p-value >= 0.05 → No significant correlation"
   ]
  },
  {
   "cell_type": "code",
   "execution_count": null,
   "metadata": {
    "trusted": true
   },
   "outputs": [],
   "source": [
    "def check_anova(df, target_column, cat_columns):\n",
    "    results = {}\n",
    "\n",
    "    for cat_column in cat_columns:\n",
    "        grp_data = df.groupby(cat_column)[target_column].apply(list)\n",
    "\n",
    "        if len(grp_data) > 1:  # Ensure at least two groups for ANOVA\n",
    "            f_statistic, p_value = f_oneway(*grp_data)\n",
    "\n",
    "            results[cat_column] = {\n",
    "                \"status\": \"Columns correlated\" if p_value <= 0.05 else \"Columns not correlated\",\n",
    "                \"f_statistic\": round(f_statistic, 3),\n",
    "                \"p_value\": round(p_value, 5)\n",
    "            }\n",
    "\n",
    "    return results\n",
    "\n",
    "# Call the function for `less_cat_cols`\n",
    "anova_results = check_anova(df, target_col, less_cat_cols)\n",
    "print(anova_results)\n"
   ]
  },
  {
   "cell_type": "code",
   "execution_count": null,
   "metadata": {},
   "outputs": [],
   "source": [
    "# Select 20 random ASINs\n",
    "random_asins = df['asin'].dropna().unique()\n",
    "random_asins = np.random.choice(random_asins, size=min(20, len(random_asins)), replace=False)\n",
    "random_df = df[df['asin'].isin(random_asins)]\n",
    "\n",
    "# Plot trend graph separately for each ASIN\n",
    "for asin in random_asins:\n",
    "    plt.figure(figsize=(10, 5))\n",
    "    asin_df = random_df[random_df['asin'] == asin]\n",
    "    sns.lineplot(x='timestamp', y='rank', data=asin_df, marker='o')\n",
    "    plt.gca().invert_yaxis()\n",
    "    plt.xlabel('Timestamp')\n",
    "    plt.ylabel('Rank')\n",
    "    plt.title(f'Rank Trend Over Time for ASIN: {asin}')\n",
    "    plt.xticks(rotation=45)\n",
    "    plt.show()\n"
   ]
  },
  {
   "cell_type": "code",
   "execution_count": null,
   "metadata": {},
   "outputs": [],
   "source": [
    "# Select 20 random ASINs\n",
    "random_asins = df['asin'].dropna().unique()\n",
    "random_asins = np.random.choice(random_asins, size=min(20, len(random_asins)), replace=False)\n",
    "random_df = df[df['asin'].isin(random_asins)]\n",
    "\n",
    "# Plot trend graph separately for each ASIN based on Month\n",
    "for asin in random_asins:\n",
    "    plt.figure(figsize=(10, 5))\n",
    "    asin_df = random_df[random_df['asin'] == asin]\n",
    "    sns.lineplot(x='month', y='rank', data=asin_df, marker='o')\n",
    "    plt.gca().invert_yaxis()\n",
    "    plt.xlabel('Month')\n",
    "    plt.ylabel('Rank')\n",
    "    plt.title(f'Rank Trend Over Months for ASIN: {asin}')\n",
    "    plt.xticks(rotation=45)\n",
    "    plt.show()"
   ]
  },
  {
   "cell_type": "code",
   "execution_count": null,
   "metadata": {},
   "outputs": [],
   "source": [
    "# Select 20 random ASINs\n",
    "random_asins = df['asin'].dropna().unique()\n",
    "random_asins = np.random.choice(random_asins, size=min(20, len(random_asins)), replace=False)\n",
    "random_df = df[df['asin'].isin(random_asins)]\n",
    "\n",
    "# Plot trend graph separately for each ASIN based on Date\n",
    "for asin in random_asins:\n",
    "    plt.figure(figsize=(10, 5))\n",
    "    asin_df = random_df[random_df['asin'] == asin]\n",
    "    sns.lineplot(x='date', y='rank', data=asin_df, marker='o')\n",
    "    plt.gca().invert_yaxis()\n",
    "    plt.xlabel('Date')\n",
    "    plt.ylabel('Rank')\n",
    "    plt.title(f'Rank Trend Over Dates for ASIN: {asin}')\n",
    "    plt.xticks(rotation=45)\n",
    "    plt.show()\n"
   ]
  },
  {
   "cell_type": "code",
   "execution_count": null,
   "metadata": {},
   "outputs": [],
   "source": [
    "# Define day order\n",
    "day_order = ['Monday', 'Tuesday', 'Wednesday', 'Thursday', 'Friday', 'Saturday', 'Sunday']\n",
    "df['day'] = pd.Categorical(df['day'], categories=day_order, ordered=True)\n",
    "\n",
    "# Select 20 random ASINs\n",
    "random_asins = df['asin'].dropna().unique()\n",
    "random_asins = np.random.choice(random_asins, size=min(20, len(random_asins)), replace=False)\n",
    "random_df = df[df['asin'].isin(random_asins)]\n",
    "\n",
    "# Plot trend graph separately for each ASIN based on Day of the Week\n",
    "for asin in random_asins:\n",
    "    plt.figure(figsize=(10, 5))\n",
    "    asin_df = random_df[random_df['asin'] == asin].sort_values('day')\n",
    "    sns.lineplot(x='day', y='rank', data=asin_df, marker='o')\n",
    "    plt.gca().invert_yaxis()\n",
    "    plt.xlabel('Day of the Week')\n",
    "    plt.ylabel('Rank')\n",
    "    plt.title(f'Rank Trend Over Days of the Week for ASIN: {asin}')\n",
    "    plt.xticks(rotation=45)\n",
    "    plt.show()\n"
   ]
  }
 ],
 "metadata": {
  "kaggle": {
   "accelerator": "none",
   "dataSources": [
    {
     "datasetId": 6651243,
     "sourceId": 10728465,
     "sourceType": "datasetVersion"
    }
   ],
   "isGpuEnabled": false,
   "isInternetEnabled": true,
   "language": "python",
   "sourceType": "notebook"
  },
  "kernelspec": {
   "display_name": "Python 3",
   "language": "python",
   "name": "python3"
  },
  "language_info": {
   "codemirror_mode": {
    "name": "ipython",
    "version": 3
   },
   "file_extension": ".py",
   "mimetype": "text/x-python",
   "name": "python",
   "nbconvert_exporter": "python",
   "pygments_lexer": "ipython3",
   "version": "3.6.4"
  }
 },
 "nbformat": 4,
 "nbformat_minor": 4
}
